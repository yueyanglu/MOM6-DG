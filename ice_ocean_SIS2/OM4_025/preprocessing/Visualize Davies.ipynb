{
 "cells": [
  {
   "cell_type": "code",
   "execution_count": null,
   "metadata": {
    "collapsed": false
   },
   "outputs": [],
   "source": [
    "import numpy\n",
    "import netCDF4\n",
    "from hashlib import sha1\n",
    "import matplotlib.pyplot as plt\n",
    "%matplotlib inline"
   ]
  },
  {
   "cell_type": "code",
   "execution_count": null,
   "metadata": {
    "collapsed": false
   },
   "outputs": [],
   "source": [
    "!make convert_Davies_2013/ggge20271-sup-0003-Data_Table1_Eq_lon_lat_Global_HF.nc"
   ]
  },
  {
   "cell_type": "code",
   "execution_count": null,
   "metadata": {
    "collapsed": false
   },
   "outputs": [],
   "source": [
    "nc = netCDF4.Dataset('convert_Davies_2013/ggge20271-sup-0003-Data_Table1_Eq_lon_lat_Global_HF.nc','r')"
   ]
  },
  {
   "cell_type": "code",
   "execution_count": null,
   "metadata": {
    "collapsed": false
   },
   "outputs": [],
   "source": [
    "# Read dataset cell-center locations and mean heat flow (W/m2)\n",
    "lat,lon = nc.variables['lat'][:], nc.variables['lon'][:]\n",
    "mean_HF = nc.variables['mean_HF']\n",
    "print('Hash of Davies heat flow: ', sha1(mean_HF[:]).hexdigest())"
   ]
  },
  {
   "cell_type": "code",
   "execution_count": null,
   "metadata": {
    "collapsed": false
   },
   "outputs": [],
   "source": [
    "plt.pcolormesh(lon,lat,numpy.log10(mean_HF[:])); plt.colorbar(); plt.clim(-2,0);"
   ]
  },
  {
   "cell_type": "code",
   "execution_count": null,
   "metadata": {
    "collapsed": false
   },
   "outputs": [],
   "source": [
    "gf = netCDF4.Dataset('ocean_hgrid.nc','r')"
   ]
  },
  {
   "cell_type": "code",
   "execution_count": null,
   "metadata": {
    "collapsed": false
   },
   "outputs": [],
   "source": [
    "# Read super grid node locations\n",
    "xf,yf = gf.variables['x'][:], gf.variables['y'][:]"
   ]
  },
  {
   "cell_type": "code",
   "execution_count": null,
   "metadata": {
    "collapsed": false
   },
   "outputs": [],
   "source": [
    "def linterp(lat,lon,Q,yf,xf):\n",
    "    ni,nj = numpy.shape(lon)[0], numpy.shape(lat)[0]\n",
    "    xi, yj = (numpy.mod(xf+180.,360))*(ni/360.), (yf+90.)*(nj/180.) # Floating point coords 0<=xi<=ni, 0<=yj<=nj\n",
    "    wx,wy = numpy.mod(xi+0.5,1.), numpy.mod(yj+0.5,1.) # Weights\n",
    "    # Calculate indices of model nodes within dataset (takes advantage of uniform resolution of dataset)\n",
    "    indw, inds = numpy.floor(xi-0.5).astype(int), numpy.floor(yj-0.5).astype(int) # i,j of node to west, south\n",
    "    inde, indn = numpy.floor(xi+0.5).astype(int), numpy.floor(yj+0.5).astype(int) # i,j of node to east, north\n",
    "    indw, inde = numpy.mod(indw, ni), numpy.mod(inde, ni) # Periodic in x\n",
    "    indn = numpy.minimum(indn, nj-1) # Leads to PCM representation for yj>0.5 in northern row\n",
    "    return (wy*wx*Q[indn,inde] + (1-wy)*(1-wx)*Q[inds,indw]) + (wy*(1-wx)*Q[indn,indw] + (1-wy)*wx*Q[inds,inde])"
   ]
  },
  {
   "cell_type": "code",
   "execution_count": null,
   "metadata": {
    "collapsed": false
   },
   "outputs": [],
   "source": [
    "hff = linterp(lat,lon,mean_HF[:],yf,xf) # Heat flux on fine grid nodes\n",
    "#plt.pcolormesh(xf,yf, numpy.log10(hff)); plt.colorbar();\n",
    "#hf = hff[1::2,1::2] # Sub-sample\n",
    "# Integrate with Trapezoidal rule to model grid\n",
    "hf = 0.5*hff[1::2,:]+0.25*(hff[:-1:2,:]+hff[2::2,:])\n",
    "hf = 0.5*hf[:,1::2]+0.25*(hf[:,:-1:2]+hf[:,2::2])\n",
    "print('Hash of re-gridded heat flow: ', sha1(hf).hexdigest())\n",
    "plt.pcolormesh(xf[::2,::2],yf[::2,::2], numpy.log10(hf)); plt.colorbar(); plt.clim(-2,0);"
   ]
  },
  {
   "cell_type": "code",
   "execution_count": null,
   "metadata": {
    "collapsed": false
   },
   "outputs": [],
   "source": [
    "with netCDF4.Dataset('geothermal_davies2013_v1.nc', 'w', format='NETCDF3_64BIT') as newfile:\n",
    "    newfile.title = 'Geothermal heat flow from Davies, 2013, re-gridded to OM4_025'\n",
    "    newfile.reference = nc.reference\n",
    "    newfile.reference_url = nc.reference_url\n",
    "    newfile.history = numpy.compat.asstr(nc.history[:])+'\\nRegridded using Jupyter notebook at https://github.com/NOAA-GFDL/MOM6-examples/blob/dev/master/ice_ocean_SIS2/OM4_025/preprocessing/'\n",
    "    dj = newfile.createDimension('j', hf.shape[0])\n",
    "    di = newfile.createDimension('i', hf.shape[1])\n",
    "    vj = newfile.createVariable('j','f',('j',))\n",
    "    vj.long_name = 'Grid j-index'\n",
    "    vi = newfile.createVariable('i','f',('i',))\n",
    "    vi.long_name = 'Grid i-index'\n",
    "    vh = newfile.createVariable('geothermal_hf','f',('j','i',))\n",
    "    vh.long_name = mean_HF.long_name\n",
    "    vh.standard_name = mean_HF.standard_name\n",
    "    vh.units = mean_HF.units\n",
    "    vh.cell_methods = mean_HF.cell_methods\n",
    "    vh.sha1 = sha1(hf).hexdigest()\n",
    "    vj[:] = numpy.arange(0.5,hf.shape[0])\n",
    "    vi[:] = numpy.arange(0.5,hf.shape[1])\n",
    "    vh[:] = hf[:]\n",
    "!md5sum geothermal_davies2013_v1.nc"
   ]
  },
  {
   "cell_type": "code",
   "execution_count": null,
   "metadata": {
    "collapsed": false
   },
   "outputs": [],
   "source": [
    "jc,jf=44,1007\n",
    "plt.figure(figsize=(12,6))\n",
    "plt.plot(lon,( (mean_HF[jc,:]+mean_HF[jc+1,:])/2 ) );\n",
    "plt.plot(numpy.mod( xf[jf,:]+180 ,360)-180,hff[jf,:],'.')\n",
    "plt.plot(numpy.mod( xf[jf,1::2]+180 ,360)-180,( hf[int(jf/2),:] ) ,'.');"
   ]
  }
 ],
 "metadata": {
  "kernelspec": {
   "display_name": "Python 3",
   "language": "python",
   "name": "python3"
  },
  "language_info": {
   "codemirror_mode": {
    "name": "ipython",
    "version": 3
   },
   "file_extension": ".py",
   "mimetype": "text/x-python",
   "name": "python",
   "nbconvert_exporter": "python",
   "pygments_lexer": "ipython3",
   "version": "3.4.5"
  }
 },
 "nbformat": 4,
 "nbformat_minor": 0
}
