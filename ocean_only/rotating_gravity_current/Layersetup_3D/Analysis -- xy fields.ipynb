{
 "cells": [
  {
   "cell_type": "code",
   "execution_count": null,
   "metadata": {
    "collapsed": false
   },
   "outputs": [],
   "source": [
    "%reset\n",
    "import numpy as np\n",
    "import netCDF4 as nc\n",
    "import glob, os\n",
    "import matplotlib.pyplot as plt\n",
    "import matplotlib.colors as mcolors"
   ]
  },
  {
   "cell_type": "code",
   "execution_count": null,
   "metadata": {
    "collapsed": false
   },
   "outputs": [],
   "source": [
    "file1= nc.Dataset('prog.nc') #Reading in original layered output file\n",
    "file1z = nc.Dataset('prog_z.nc') #Reading in the remapped z-coordinate output file\n",
    "print(file1)\n",
    "\n",
    "NX = 400\n",
    "NY = 500\n",
    "NZ = 120\n",
    "\n",
    "#Creating red colormap\n",
    "colors = plt.cm.Reds(np.linspace(0, 1, 256))\n",
    "colors[0,:]=(1.0, 1.0, 1.0, 1.0)\n",
    "Red = mcolors.LinearSegmentedColormap.from_list('colormap', colors)"
   ]
  },
  {
   "cell_type": "code",
   "execution_count": null,
   "metadata": {
    "collapsed": false
   },
   "outputs": [],
   "source": [
    "Time = file1.variables['Time'][:]\n",
    "xq = file1.variables['xq'][:]\n",
    "yq = file1.variables['yq'][:]\n",
    "\n",
    "print(Time.shape)\n"
   ]
  },
  {
   "cell_type": "code",
   "execution_count": null,
   "metadata": {
    "collapsed": false
   },
   "outputs": [],
   "source": [
    "#PLOTTING THE SALINITY (SURFACE/BOTTOM):\n",
    "\n",
    "fig = plt.figure(figsize=(9, 7), dpi= 80, facecolor='w', edgecolor='k')\n",
    "ax1 = fig.add_axes([0.15,0.1,0.7,0.7]) \n",
    "ax2 = fig.add_axes([.9, 0.1, 0.05, 0.7])\n",
    "ax1.set_facecolor((0.92, 0.92, 0.92))\n",
    "ax1.set_xlabel('X Position (km)',fontsize=16)\n",
    "ax1.set_ylabel('Y Position (km)',fontsize=16)\n",
    "ax1.tick_params(labelsize=16); \n",
    "ax2.set_title('(psu)',fontsize=16); ax2.tick_params(labelsize=14)\n",
    "\n",
    "salt_surface=file1.variables['salt'][239,0,:,:] \n",
    "salt_bottom =file1.variables['salt'][239,NZ-1,:,:]\n",
    "\n",
    "plotted= ax1.pcolor(xq,yq,salt_surface,cmap='rainbow',vmin=34.5,vmax=35); ax1.set_title('Surface Salinity',fontsize=20)\n",
    "#plotted= ax1.pcolor(xq,yq,salt_bottom,cmap='rainbow',vmin=34.5,vmax=35); ax1.set_title('Bottom Salinity',fontsize=20)\n",
    "cbar = plt.colorbar(mappable=plotted, cax=ax2, orientation = 'vertical') \n",
    "\n",
    "plt.show()\n"
   ]
  },
  {
   "cell_type": "code",
   "execution_count": null,
   "metadata": {
    "collapsed": false
   },
   "outputs": [],
   "source": [
    "#PLOTTING THE TEMPERATURE (SURFACE/BOTTOM):\n",
    "\n",
    "fig = plt.figure(figsize=(9, 7), dpi= 80, facecolor='w', edgecolor='k')\n",
    "ax1 = fig.add_axes([0.15,0.1,0.7,0.7]) \n",
    "ax2 = fig.add_axes([.9, 0.1, 0.05, 0.7])\n",
    "ax1.set_facecolor((0.92, 0.92, 0.92))\n",
    "ax1.set_xlabel('X Position (km)',fontsize=16)\n",
    "ax1.set_ylabel('Y Position (km)',fontsize=16)\n",
    "ax1.tick_params(labelsize=16); \n",
    "ax2.set_title('($^\\circ$C)',fontsize=16); ax2.tick_params(labelsize=14)\n",
    "\n",
    "temp_surface=file1.variables['temp'][239,0,:,:] \n",
    "temp_bottom =file1.variables['temp'][239,NZ-1,:,:]\n",
    "\n",
    "plotted= ax1.pcolor(xq,yq,temp_surface,cmap='rainbow',vmin=-1.5,vmax=0.2); ax1.set_title('Surface Temperature',fontsize=20)\n",
    "#plotted= ax1.pcolor(xq,yq,temp_bottom,cmap='rainbow',vmin=-1.5,vmax=0.2); ax1.set_title('Bottom Temperature',fontsize=20)\n",
    "cbar = plt.colorbar(mappable=plotted, cax=ax2, orientation = 'vertical') \n",
    "\n",
    "plt.show()"
   ]
  },
  {
   "cell_type": "code",
   "execution_count": null,
   "metadata": {
    "collapsed": false
   },
   "outputs": [],
   "source": [
    "#PLOTTING THE OFFSHORE VELOCITY (SURFACE/BOTTOM):\n",
    "\n",
    "fig = plt.figure(figsize=(9, 7), dpi= 80, facecolor='w', edgecolor='k')\n",
    "ax1 = fig.add_axes([0.15,0.1,0.7,0.7]) \n",
    "ax2 = fig.add_axes([.9, 0.1, 0.05, 0.7])\n",
    "ax1.set_facecolor((0.92, 0.92, 0.92))\n",
    "ax1.set_xlabel('X Position (km)',fontsize=16)\n",
    "ax1.set_ylabel('Y Position (km)',fontsize=16)\n",
    "ax1.tick_params(labelsize=16); \n",
    "ax2.set_title('(m/s)',fontsize=16); ax2.tick_params(labelsize=14)\n",
    "\n",
    "u_surface=file1.variables['u'][239,0,:,:] \n",
    "u_bottom =file1.variables['u'][239,NZ-1,:,:]\n",
    "\n",
    "plotted= ax1.pcolor(xq,yq,u_surface,cmap='RdBu_r',vmin=-0.5,vmax=0.5); ax1.set_title('Surface U Velocity',fontsize=20)\n",
    "#plotted= ax1.pcolor(xq,yq,u_bottom,cmap='RdBu_r',vmin=-0.5,vmax=0.5); ax1.set_title('Bottom U Velocity',fontsize=20)\n",
    "cbar = plt.colorbar(mappable=plotted, cax=ax2, orientation = 'vertical') \n",
    "\n",
    "plt.show()\n",
    "     "
   ]
  },
  {
   "cell_type": "code",
   "execution_count": null,
   "metadata": {
    "collapsed": false
   },
   "outputs": [],
   "source": [
    "#PLOTTING THE ALONGSHORE VELOCITY (SURFACE/BOTTOM):\n",
    "\n",
    "fig = plt.figure(figsize=(9, 7), dpi= 80, facecolor='w', edgecolor='k')\n",
    "ax1 = fig.add_axes([0.15,0.1,0.7,0.7]) \n",
    "ax2 = fig.add_axes([.9, 0.1, 0.05, 0.7])\n",
    "ax1.set_facecolor((0.92, 0.92, 0.92))\n",
    "ax1.set_xlabel('X Position (km)',fontsize=16)\n",
    "ax1.set_ylabel('Y Position (km)',fontsize=16)\n",
    "ax1.tick_params(labelsize=16); \n",
    "ax2.set_title('(m/s)',fontsize=16); ax2.tick_params(labelsize=14)\n",
    "\n",
    "v_surface=file1.variables['v'][239,0,:,:] \n",
    "v_bottom =file1.variables['v'][239,NZ-1,:,:]\n",
    "\n",
    "plotted= ax1.pcolor(xq,yq,v_surface,cmap='RdBu_r',vmin=-0.5,vmax=0.5); ax1.set_title('Surface V Velocity',fontsize=20)\n",
    "#plotted= ax1.pcolor(xq,yq,v_bottom,cmap='RdBu_r',vmin=-0.5,vmax=0.5); ax1.set_title('Bottom V Velocity',fontsize=20)\n",
    "cbar = plt.colorbar(mappable=plotted, cax=ax2, orientation = 'vertical') \n",
    "\n",
    "plt.show()\n"
   ]
  },
  {
   "cell_type": "code",
   "execution_count": null,
   "metadata": {
    "collapsed": false
   },
   "outputs": [],
   "source": [
    "#PLOTTING THE PASSIVE TRACER (SURFACE/BOTTOM):\n",
    "\n",
    "fig = plt.figure(figsize=(9, 7), dpi= 80, facecolor='w', edgecolor='k')\n",
    "ax1 = fig.add_axes([0.15,0.1,0.7,0.7]) \n",
    "ax2 = fig.add_axes([.9, 0.1, 0.05, 0.7])\n",
    "ax1.set_facecolor((0.92, 0.92, 0.92))\n",
    "ax1.set_xlabel('X Position (km)',fontsize=16)\n",
    "ax1.set_ylabel('Y Position (km)',fontsize=16)\n",
    "ax1.tick_params(labelsize=16); \n",
    "ax2.tick_params(labelsize=14)\n",
    "\n",
    "tracer_surface=file1.variables['tr_RGC1'][239,1,:,:] \n",
    "tracer_bottom =file1.variables['tr_RGC1'][239,NZ-1,:,:]\n",
    "\n",
    "#plotted= ax1.pcolor(xq,yq,tracer_surface,cmap=Red,vmin=0,vmax=1.); ax1.set_title('Surface Tracer Concentration',fontsize=20)\n",
    "plotted= ax1.pcolor(xq,yq,tracer_bottom,cmap=Red,vmin=0,vmax=1.); ax1.set_title('Bottom Tracer Concentration',fontsize=20)\n",
    "cbar = plt.colorbar(mappable=plotted, cax=ax2, orientation = 'vertical') \n",
    "\n",
    "plt.show()"
   ]
  },
  {
   "cell_type": "code",
   "execution_count": null,
   "metadata": {
    "collapsed": true
   },
   "outputs": [],
   "source": []
  }
 ],
 "metadata": {
  "kernelspec": {
   "display_name": "Python 3",
   "language": "python",
   "name": "python3"
  },
  "language_info": {
   "codemirror_mode": {
    "name": "ipython",
    "version": 3
   },
   "file_extension": ".py",
   "mimetype": "text/x-python",
   "name": "python",
   "nbconvert_exporter": "python",
   "pygments_lexer": "ipython3",
   "version": "3.6.5"
  }
 },
 "nbformat": 4,
 "nbformat_minor": 2
}
