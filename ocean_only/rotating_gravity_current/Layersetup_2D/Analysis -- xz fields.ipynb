{
 "cells": [
  {
   "cell_type": "code",
   "execution_count": null,
   "metadata": {
    "collapsed": false
   },
   "outputs": [],
   "source": [
    "%reset\n",
    "import numpy as np\n",
    "import netCDF4 as nc\n",
    "import glob, os\n",
    "import matplotlib.pyplot as plt\n",
    "import matplotlib.colors as mcolors"
   ]
  },
  {
   "cell_type": "code",
   "execution_count": null,
   "metadata": {
    "collapsed": false
   },
   "outputs": [],
   "source": [
    "file1= nc.Dataset('prog.nc') #Reading in original layered output file\n",
    "file1z = nc.Dataset('prog_z.nc') #Reading in the remapped z-coordinate output file\n",
    "print(file1)\n",
    "\n",
    "NX = 640\n",
    "NY = 4\n",
    "NZ = 120\n",
    "\n",
    "#Creating red colormap\n",
    "colors = plt.cm.Reds(np.linspace(0, 1, 256))\n",
    "colors[0,:]=(1.0, 1.0, 1.0, 1.0)\n",
    "Red = mcolors.LinearSegmentedColormap.from_list('colormap', colors)"
   ]
  },
  {
   "cell_type": "code",
   "execution_count": null,
   "metadata": {
    "collapsed": false
   },
   "outputs": [],
   "source": [
    "Time = file1.variables['Time'][:] #(Time, hours since initialization)\n",
    "xq = file1.variables['xq'][:]  #(q point nominal longitude)\n",
    "zl = file1z.variables['z_l'][:]  #(Depth at cell center, in remapped z space)\n",
    "\n",
    "print(Time.shape)"
   ]
  },
  {
   "cell_type": "code",
   "execution_count": null,
   "metadata": {
    "collapsed": false
   },
   "outputs": [],
   "source": [
    "#PLOTTING THE SALINITY (alongshore mean or a slice):\n",
    "\n",
    "fig = plt.figure(figsize=(9, 7), dpi= 80, facecolor='w', edgecolor='k')\n",
    "ax1 = fig.add_axes([0.15,0.1,0.7,0.7]) \n",
    "ax2 = fig.add_axes([.9, 0.1, 0.05, 0.7])\n",
    "ax1.set_facecolor((0.92, 0.92, 0.92))\n",
    "ax1.set_title('Salinity',fontsize=20)\n",
    "ax1.set_xlabel('X Position (km)',fontsize=16)\n",
    "ax1.set_ylabel('Depth (m)',fontsize=16)\n",
    "ax1.tick_params(labelsize=16); \n",
    "ax2.set_title('(psu)',fontsize=16); ax2.tick_params(labelsize=14)\n",
    "\n",
    "salt_mean=np.mean(file1z.variables['salt'][239,:,:,:],axis=1) #Using the remapped Z output for alongshore averaging\n",
    "salt_slice=file1.variables['salt'][239,:,0,:] #Using original Z* coordinates\n",
    "e_slice=file1.variables['e'][239,:,0,:] #Using original Z* coordinates\n",
    "\n",
    "#plotted= ax1.pcolor(xq,-zl,salt_mean,cmap='rainbow',vmin=34.5,vmax=35) #Plotting the alongshore average\n",
    "plotted= ax1.pcolor(xq,e_slice,salt_slice,cmap='rainbow',vmin=34.5,vmax=35) #Plotting a slice\n",
    "cbar = plt.colorbar(mappable=plotted, cax=ax2, orientation = 'vertical') \n",
    "\n",
    "for i in range(1,NZ+1,1):\n",
    "    line,=ax1.plot(xq,e_slice[i,:],'k',linewidth=.8) #Plot the individual layer positions, don't do this for alongshore average\n",
    "#ax1.set_ylim([-550.0, 0.0])\n",
    "#ax1.set_xlim([24.0, 40.0])\n",
    "\n",
    "plt.show()\n"
   ]
  },
  {
   "cell_type": "code",
   "execution_count": null,
   "metadata": {
    "collapsed": false
   },
   "outputs": [],
   "source": [
    "#PLOTTING THE TEMPERATURE (alongshore mean or a slice):\n",
    "\n",
    "fig = plt.figure(figsize=(9, 7), dpi= 80, facecolor='w', edgecolor='k')\n",
    "ax1 = fig.add_axes([0.15,0.1,0.7,0.7]) \n",
    "ax2 = fig.add_axes([.9, 0.1, 0.05, 0.7])\n",
    "ax1.set_facecolor((0.92, 0.92, 0.92))\n",
    "ax1.set_title('Potential Temperature',fontsize=20)\n",
    "ax1.set_xlabel('X Position (km)',fontsize=16)\n",
    "ax1.set_ylabel('Depth (m)',fontsize=16)\n",
    "ax1.tick_params(labelsize=16); \n",
    "ax2.set_title('($^\\circ$C)',fontsize=16); ax2.tick_params(labelsize=14)\n",
    "\n",
    "temp_mean=np.mean(file1z.variables['temp'][239,:,:,:],axis=1) #Using the remapped Z output for alongshore averaging\n",
    "temp_slice=file1.variables['temp'][239,:,0,:] #Using original Z* coordinates\n",
    "e_slice=file1.variables['e'][239,:,0,:] #Using original Z* coordinates\n",
    "\n",
    "#plotted= ax1.pcolor(xq,-zl,temp_mean,cmap='rainbow',vmin=-1.5,vmax=0.2) #Plotting the alongshore average\n",
    "plotted= ax1.pcolor(xq,e_slice,temp_slice,cmap='rainbow',vmin=-1.5,vmax=0.2) #Plotting a slice\n",
    "cbar = plt.colorbar(mappable=plotted, cax=ax2, orientation = 'vertical') \n",
    "\n",
    "for i in range(1,NZ+1,1):\n",
    "    line,=ax1.plot(xq,e_slice[i,:],'k',linewidth=.8) #Plot the individual layer positions, don't do this for alongshore average\n",
    "#ax1.set_ylim([-550.0, 0.0])\n",
    "#ax1.set_xlim([24.0, 40.0])\n",
    "\n",
    "plt.show()\n"
   ]
  },
  {
   "cell_type": "code",
   "execution_count": null,
   "metadata": {
    "collapsed": false
   },
   "outputs": [],
   "source": [
    "#PLOTTING THE OFFSHORE VELOCITY(alongshore mean or a slice):\n",
    "\n",
    "fig = plt.figure(figsize=(9, 7), dpi= 80, facecolor='w', edgecolor='k')\n",
    "ax1 = fig.add_axes([0.15,0.1,0.7,0.7]) \n",
    "ax2 = fig.add_axes([.9, 0.1, 0.05, 0.7])\n",
    "ax1.set_facecolor((0.92, 0.92, 0.92))\n",
    "ax1.set_title('Offshore velocity (U)',fontsize=20)\n",
    "ax1.set_xlabel('X Position (km)',fontsize=16)\n",
    "ax1.set_ylabel('Depth (m)',fontsize=16)\n",
    "ax1.tick_params(labelsize=16); \n",
    "ax2.set_title('(m/s)',fontsize=16); ax2.tick_params(labelsize=14)\n",
    "\n",
    "u_mean=np.mean(file1z.variables['u'][239,:,:,:],axis=1) #Using the remapped Z output for alongshore averaging\n",
    "u_slice=file1.variables['u'][239,:,0,:] #Using original Z* coordinates\n",
    "e_slice=file1.variables['e'][239,:,0,:] #Using original Z* coordinates\n",
    "\n",
    "#plotted= ax1.pcolor(xq,-zl,u_mean,cmap='RdBu_r',vmin=-0.01,vmax=0.01) #Plotting the alongshore average\n",
    "plotted= ax1.pcolor(xq,e_slice,u_slice,cmap='RdBu_r',vmin=-0.01,vmax=0.01) #Plotting a slice\n",
    "cbar = plt.colorbar(mappable=plotted, cax=ax2, orientation = 'vertical') \n",
    "\n",
    "for i in range(1,NZ+1,1):\n",
    "    line,=ax1.plot(xq,e_slice[i,:],'k',linewidth=0.8) #Plot the individual layer positions\n",
    "#ax1.set_ylim([-550.0, 0.0])\n",
    "#ax1.set_xlim([24.0, 40.0])\n",
    "\n",
    "plt.show()\n",
    "\n"
   ]
  },
  {
   "cell_type": "code",
   "execution_count": null,
   "metadata": {
    "collapsed": false
   },
   "outputs": [],
   "source": [
    "#PLOTTING THE ALONGSHORE VELOCITY(alongshore mean or a slice):\n",
    "\n",
    "fig = plt.figure(figsize=(9, 7), dpi= 80, facecolor='w', edgecolor='k')\n",
    "ax1 = fig.add_axes([0.15,0.1,0.7,0.7]) \n",
    "ax2 = fig.add_axes([.9, 0.1, 0.05, 0.7])\n",
    "ax1.set_facecolor((0.92, 0.92, 0.92))\n",
    "ax1.set_title('Alongshore velocity (V)',fontsize=20)\n",
    "ax1.set_xlabel('X Position (km)',fontsize=16)\n",
    "ax1.set_ylabel('Depth (m)',fontsize=16)\n",
    "ax1.tick_params(labelsize=16); \n",
    "ax2.set_title('(m/s)',fontsize=16); ax2.tick_params(labelsize=14)\n",
    "\n",
    "v_mean=np.mean(file1z.variables['v'][239,:,:,:],axis=1) #Using the remapped Z output for alongshore averaging\n",
    "v_slice=file1.variables['v'][239,:,0,:] #Using original Z* coordinates\n",
    "e_slice=file1.variables['e'][239,:,0,:] #Using original Z* coordinates\n",
    "\n",
    "#plotted= ax1.pcolor(xq,-zl,v_mean,cmap='RdBu_r',vmin=-0.5,vmax=0.5) #Plotting the alongshore average\n",
    "plotted= ax1.pcolor(xq,e_slice,v_slice,cmap='RdBu_r',vmin=-0.5,vmax=0.5) #Plotting a slice\n",
    "cbar = plt.colorbar(mappable=plotted, cax=ax2, orientation = 'vertical') \n",
    "\n",
    "for i in range(1,NZ+1,1):\n",
    "    line,=ax1.plot(xq,e_slice[i,:],'k',linewidth=0.8) #Plot the individual layer positions\n",
    "#ax1.set_ylim([-550.0, 0.0])\n",
    "#ax1.set_xlim([24.0, 40.0])\n",
    "\n",
    "plt.show()\n"
   ]
  },
  {
   "cell_type": "code",
   "execution_count": null,
   "metadata": {
    "collapsed": false
   },
   "outputs": [],
   "source": [
    "#PLOTTING THE PASSIVE TRACER(alongshore mean or a slice):\n",
    "\n",
    "fig = plt.figure(figsize=(9, 7), dpi= 80, facecolor='w', edgecolor='k')\n",
    "ax1 = fig.add_axes([0.15,0.1,0.7,0.7]) \n",
    "ax2 = fig.add_axes([.9, 0.1, 0.05, 0.7])\n",
    "ax1.set_facecolor((0.92, 0.92, 0.92))\n",
    "ax1.set_title('Tracer Concentration',fontsize=20)\n",
    "ax1.set_xlabel('X Position (km)',fontsize=16)\n",
    "ax1.set_ylabel('Depth (m)',fontsize=16)\n",
    "ax1.tick_params(labelsize=16); \n",
    "ax2.tick_params(labelsize=14)\n",
    "\n",
    "tracer_mean=np.mean(file1z.variables['tr_RGC1'][239,:,:,:],axis=1) #Using the remapped Z output for alongshore averaging\n",
    "tracer_slice=file1.variables['tr_RGC1'][239,:,0,:] #Using original Z* coordinates\n",
    "e_slice=file1.variables['e'][239,:,0,:] #Using original Z* coordinates\n",
    "\n",
    "#plotted= ax1.pcolor(xq,-zl,tracer_mean,cmap=Red,vmin=0.0,vmax=1.0) #Plotting the alongshore average\n",
    "plotted= ax1.pcolor(xq,e_slice,tracer_slice,cmap=Red,vmin=0.0,vmax=1.0) #Plotting a slice\n",
    "cbar = plt.colorbar(mappable=plotted, cax=ax2, orientation = 'vertical') \n",
    "\n",
    "for i in range(1,NZ+1,1):\n",
    "    line,=ax1.plot(xq,e_slice[i,:],'k',linewidth=0.8) #Plot the individual layer positions\n",
    "#ax1.set_ylim([-550.0, 0.0])\n",
    "#ax1.set_xlim([24.0, 40.0])\n",
    "\n",
    "plt.show()\n",
    "\n",
    "\n"
   ]
  },
  {
   "cell_type": "code",
   "execution_count": null,
   "metadata": {
    "collapsed": false
   },
   "outputs": [],
   "source": []
  }
 ],
 "metadata": {
  "kernelspec": {
   "display_name": "Python 3",
   "language": "python",
   "name": "python3"
  },
  "language_info": {
   "codemirror_mode": {
    "name": "ipython",
    "version": 3
   },
   "file_extension": ".py",
   "mimetype": "text/x-python",
   "name": "python",
   "nbconvert_exporter": "python",
   "pygments_lexer": "ipython3",
   "version": "3.6.5"
  }
 },
 "nbformat": 4,
 "nbformat_minor": 2
}
