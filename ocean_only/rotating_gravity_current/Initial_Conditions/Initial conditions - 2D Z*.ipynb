{
 "cells": [
  {
   "cell_type": "code",
   "execution_count": null,
   "metadata": {
    "collapsed": false
   },
   "outputs": [],
   "source": [
    "#Creates initial condition file with temperature and salinities\n",
    "%reset\n",
    "import numpy as np\n",
    "import scipy.io as sio\n",
    "import netCDF4 as nc\n",
    "import matplotlib.pyplot as plt\n",
    "%pwd"
   ]
  },
  {
   "cell_type": "code",
   "execution_count": null,
   "metadata": {
    "collapsed": false
   },
   "outputs": [],
   "source": [
    "#SPECIFY THESE:\n",
    "XN = 640 #NUMBER OF POINTS IN X\n",
    "YN = 4  #NUMBER OF POINTS IN Y\n",
    "ZN = 120 #NUMBER OF POINTS IN Z #default 120\n",
    "perturbation = np.expand_dims(np.random.random([ZN,YN,XN])*.000001,axis=0)\n",
    "\n",
    "depthmat=nc.Dataset('depthmat.nc')['depthmat'][:]\n",
    "xmat = nc.Dataset('xmat.nc')['xmat'][:]\n",
    "zmat = nc.Dataset('zmat.nc')['zmat'][:]\n",
    "smat = nc.Dataset('smat.nc')['smat'][:]\n",
    "tmat = nc.Dataset('tmat.nc')['tmat'][:]\n",
    "\n",
    "interpx1=xmat\n",
    "interpz1=zmat\n",
    "interpx2=np.linspace(0,75000,XN)\n",
    "interpz2=np.linspace(0,2500,ZN)\n",
    "\n",
    "sinterp=np.expand_dims(np.interp(interpz2,interpz1,smat),axis=0)\n",
    "sinterp=np.expand_dims(sinterp,axis=2)\n",
    "sinterp=np.expand_dims(sinterp,axis=3)\n",
    "s_input=np.repeat(sinterp,YN,axis=2)\n",
    "s_input=np.repeat(s_input,XN,axis=3)+perturbation\n",
    "\n",
    "tinterp=np.expand_dims(np.interp(interpz2,interpz1,tmat),axis=0)\n",
    "tinterp=np.expand_dims(tinterp,axis=2)\n",
    "tinterp=np.expand_dims(tinterp,axis=3)\n",
    "t_input=np.repeat(tinterp,YN,axis=2)\n",
    "t_input=np.repeat(t_input,XN,axis=3)+perturbation\n",
    "\n",
    "YC = np.linspace(0.0625,0.4375,YN) #0.5km in y\n",
    "XC = np.linspace(0.0+80.0/(XN*2),80.0-80.0/(XN*2),XN) #80km in x\n",
    "ZC=np.linspace(0,2499.8179,ZN)\n"
   ]
  },
  {
   "cell_type": "code",
   "execution_count": null,
   "metadata": {
    "collapsed": false
   },
   "outputs": [],
   "source": [
    "print(s_input.shape)\n",
    "print(perturbation.shape)"
   ]
  },
  {
   "cell_type": "code",
   "execution_count": null,
   "metadata": {
    "collapsed": false,
    "scrolled": true
   },
   "outputs": [],
   "source": [
    "X, Z = np.meshgrid(interpx2/1000, interpz2)\n",
    "fig=plt.figure(figsize=(7, 4), dpi= 80, facecolor='w', edgecolor='k')\n",
    "img1=plt.pcolor(X, Z, s_input[0,:,0,:])\n",
    "plt.gca().invert_yaxis()\n",
    "plt.title('Salinity', fontsize=14)\n",
    "plt.xlabel('X Position (km)',fontsize=14)\n",
    "plt.ylabel('Depth (m)',fontsize=14)\n",
    "plt.colorbar(img1)\n",
    "plt.show()\n",
    "\n",
    "fig=plt.figure(figsize=(7, 4), dpi= 80, facecolor='w', edgecolor='k')\n",
    "img2=plt.pcolor(X, Z, t_input[0,:,0,:],vmin=-.89,vmax=0.006)\n",
    "plt.gca().invert_yaxis()\n",
    "\n",
    "plt.title('Temperature', fontsize=14)\n",
    "plt.xlabel('X Position (km)',fontsize=14)\n",
    "plt.ylabel('Depth (m)',fontsize=14)\n",
    "plt.colorbar(img2)\n",
    "plt.show()\n",
    "print(np.max(s_input))\n",
    "print(np.min(s_input)) \n",
    "print(np.max(t_input))\n",
    "print(np.min(t_input)) "
   ]
  },
  {
   "cell_type": "code",
   "execution_count": null,
   "metadata": {
    "collapsed": false
   },
   "outputs": [],
   "source": [
    "writing = nc.Dataset(\"IC_TS.nc\",\"w\",format=\"NETCDF3_64BIT_OFFSET\")\n",
    "TIME = writing.createDimension(\"TIME\",1)\n",
    "DEPTH = writing.createDimension(\"DEPTH\",ZN)\n",
    "LAT = writing.createDimension(\"LAT\",YN)\n",
    "LON = writing.createDimension(\"LON\",XN)\n",
    "\n",
    "\n",
    "LAT = writing.createVariable(\"LAT\",\"f8\",(\"LAT\"))\n",
    "LAT[:]=YC\n",
    "LAT.standard_name = \"YC (y coordinate at center of grid cell)\"\n",
    "LAT.units = \"km\"\n",
    "LAT.cartesian_axis = \"Y\"\n",
    "\n",
    "    \n",
    "LON = writing.createVariable(\"LON\",\"f8\",(\"LON\"))\n",
    "LON[:]=XC\n",
    "LON.standard_name = \"XC (x coordinate at center of grid cell)\"\n",
    "LON.units = \"km\"\n",
    "LON.cartesian_axis = \"X\" ;\n",
    "\n",
    "TIME = writing.createVariable(\"TIME\",\"f8\",(\"TIME\"))\n",
    "TIME[:]=0.0\n",
    "TIME.standard_name = \"time\"\n",
    "TIME.units = \"days since 0001-01-01 00:00:00\"\n",
    "TIME.calendar = \"noleap\" ;\n",
    "TIME.cartesian_axis = \"T\" ;\n",
    "    \n",
    "DEPTH = writing.createVariable(\"DEPTH\",\"f8\",(\"DEPTH\")) #FOR Z COORDINATES\n",
    "DEPTH[:]=ZC\n",
    "DEPTH.standard_name = \"Z coordinate\"\n",
    "DEPTH.units = \"m\"\n",
    "DEPTH.cartesian_axis = \"Z\" ;\n",
    "\n",
    "PTEMP = writing.createVariable(\"PTEMP\",\"f4\",(\"TIME\",\"DEPTH\",\"LAT\",\"LON\"),fill_value=-1.e+34)\n",
    "PTEMP[:,:,:,:]=t_input\n",
    "PTEMP.standard_name = \"Initial potential temperature referenced to 0dbar\"\n",
    "PTEMP.units = \"Celsius\"\n",
    "\n",
    "SALT = writing.createVariable(\"SALT\",\"f4\",(\"TIME\",\"DEPTH\",\"LAT\",\"LON\"),fill_value=-1.e+34)\n",
    "SALT[:,:,:,:]=s_input\n",
    "SALT.standard_name = \"Initial salinity\"\n",
    "SALT.units = \"PSU\"\n",
    "\n",
    "\n",
    "writing.close()"
   ]
  },
  {
   "cell_type": "code",
   "execution_count": null,
   "metadata": {
    "collapsed": false
   },
   "outputs": [],
   "source": [
    "#NEW FILE CHECK\n",
    "filenew = nc.Dataset('IC_TS.nc')\n",
    "print(filenew)\n",
    "temp_new=filenew.variables['PTEMP'][:]\n",
    "print(temp_new.shape)\n",
    "salt_new=filenew.variables['SALT'][:]\n",
    "print(salt_new.shape)"
   ]
  },
  {
   "cell_type": "code",
   "execution_count": null,
   "metadata": {
    "collapsed": true
   },
   "outputs": [],
   "source": []
  }
 ],
 "metadata": {
  "kernelspec": {
   "display_name": "Python 3",
   "language": "python",
   "name": "python3"
  },
  "language_info": {
   "codemirror_mode": {
    "name": "ipython",
    "version": 3
   },
   "file_extension": ".py",
   "mimetype": "text/x-python",
   "name": "python",
   "nbconvert_exporter": "python",
   "pygments_lexer": "ipython3",
   "version": "3.6.5"
  }
 },
 "nbformat": 4,
 "nbformat_minor": 2
}
