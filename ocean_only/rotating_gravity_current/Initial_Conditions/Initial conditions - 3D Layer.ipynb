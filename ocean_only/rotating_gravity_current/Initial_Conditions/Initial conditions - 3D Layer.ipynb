{
 "cells": [
  {
   "cell_type": "code",
   "execution_count": null,
   "metadata": {
    "collapsed": false
   },
   "outputs": [],
   "source": [
    "#Creates initial condition file with temperature and salinities, Coordinate file, and thickness file.\n",
    "%reset\n",
    "import numpy as np\n",
    "import scipy.io as sio\n",
    "import netCDF4 as nc\n",
    "import matplotlib.pyplot as plt\n",
    "%pwd"
   ]
  },
  {
   "cell_type": "code",
   "execution_count": null,
   "metadata": {
    "collapsed": false
   },
   "outputs": [],
   "source": [
    "#SPECIFY THESE:\n",
    "XN =400 #NUMBER OF POINTS IN X\n",
    "YN = 500  #NUMBER OF POINTS IN Y\n",
    "ZN = 10 #NUMBER OF LAYERS IN Z that are initially filled \n",
    "perturbation = np.expand_dims(np.random.random([ZN,YN,XN])*.000001,axis=0)\n",
    "\n",
    "smat = nc.Dataset('smat.nc')['smat'][:]\n",
    "tmat = nc.Dataset('tmat.nc')['tmat'][:]\n",
    "zmat = np.linspace(0,2500,len(smat)) #maximum depth is 2500m\n",
    "\n",
    "s_grid=np.linspace(34.46,34.914,ZN) #defining salinity points\n",
    "depth=np.interp(s_grid,smat,zmat) #finding new depth locations for salinity points\n",
    "depthnew=np.zeros(ZN+1); depthnew[0:ZN-1]=depth[0:ZN-1]; depthnew[ZN-1]=1300; depthnew[ZN]=2500\n",
    "\n",
    "Sint=np.interp(depthnew,zmat,smat); S_layer=(Sint[1:] + Sint[:-1]) / 2.0;\n",
    "s_input=np.expand_dims(np.expand_dims(np.expand_dims(S_layer,axis=0),axis=2),axis=3)\n",
    "s_input=np.repeat(s_input,YN,axis=2)\n",
    "s_input=np.repeat(s_input,XN,axis=3)+perturbation\n",
    "\n",
    "Tint=np.interp(depthnew,zmat,tmat); T_layer=(Tint[1:] + Tint[:-1]) / 2.0; \n",
    "t_input=np.expand_dims(np.expand_dims(np.expand_dims(T_layer,axis=0),axis=2),axis=3)\n",
    "t_input=np.repeat(t_input,YN,axis=2)\n",
    "t_input=np.repeat(t_input,XN,axis=3)+perturbation\n",
    "\n",
    "h=depthnew[1:ZN+1]-depthnew[0:ZN]\n",
    "h_input=np.expand_dims(np.expand_dims(np.expand_dims(h,axis=0),axis=2),axis=3)\n",
    "h_input=np.repeat(h_input,YN,axis=2)\n",
    "h_input=np.repeat(h_input,XN,axis=3)\n",
    "\n",
    "eta=-depthnew\n",
    "eta_input=np.expand_dims(np.expand_dims(np.expand_dims(eta,axis=0),axis=2),axis=3)\n",
    "eta_input=np.repeat(eta_input,YN,axis=2)\n",
    "eta_input=np.repeat(eta_input,XN,axis=3)\n",
    "\n",
    "\n",
    "YC = np.linspace(0.0+100.0/(YN*2),100.0-100.0/(YN*2),YN) #100km in y\n",
    "XC = np.linspace(0.0+80.0/(XN*2),80.0-80.0/(XN*2),XN) #80km in x\n",
    "\n"
   ]
  },
  {
   "cell_type": "code",
   "execution_count": null,
   "metadata": {
    "collapsed": false
   },
   "outputs": [],
   "source": [
    "#EXECUTE THIS CELL TO ADD INITIALLY UNFILLED LAYERS WITH HIGHER SALINITIES, LOWER TEMPERATURES\n",
    "s_input_adjust=np.zeros((1,ZN+110,YN,XN))\n",
    "s_input_adjust[0,0:ZN,:,:]=s_input\n",
    "t_input_adjust=np.zeros((1,ZN+110,YN,XN))\n",
    "t_input_adjust[0,0:ZN,:,:]=t_input\n",
    "h_input_adjust=np.zeros((1,ZN+110,YN,XN))\n",
    "h_input_adjust[0,0:ZN,:,:]=h_input\n",
    "eta_input_adjust=np.zeros((1,ZN+111,YN,XN))\n",
    "\n",
    "for i in range(0,XN):\n",
    "    for j in range(0,YN):\n",
    "        s_input_adjust[0,10:120,j,i]=np.linspace(34.95,39.45,110)\n",
    "        t_input_adjust[0,10:120,j,i]=np.linspace(-0.91,-5.0,110) \n",
    "        h_input_adjust[0,10:120,j,i]=1.0E-5\n",
    "eta_input_adjust[0,1:ZN+111,:,:]=-np.cumsum(h_input_adjust,axis=1)\n",
    "\n",
    "#overwriting previous input variables with expanded/adjusted versions.\n",
    "ZN=ZN+110\n",
    "s_input=s_input_adjust\n",
    "t_input=t_input_adjust\n",
    "h_input=h_input_adjust\n",
    "eta_input=eta_input_adjust\n",
    "eta_input.shape\n",
    "\n"
   ]
  },
  {
   "cell_type": "code",
   "execution_count": null,
   "metadata": {
    "collapsed": false
   },
   "outputs": [],
   "source": [
    "fig=plt.figure(figsize=(7, 4), dpi= 80, facecolor='w', edgecolor='k')\n",
    "img1=plt.plot(s_input[0,:,0,0],linestyle=':',color='b'); plt.title('Salinity coordinates')\n",
    "plt.xlabel('Layer',fontsize=14)\n",
    "plt.ylabel('Salinity (psu)',fontsize=14)\n",
    "plt.show()\n",
    "\n",
    "fig=plt.figure(figsize=(7, 4), dpi= 80, facecolor='w', edgecolor='k')\n",
    "img2=plt.plot(t_input[0,:,0,0],linestyle=':',color='b'); plt.title('Temperature coordinates')\n",
    "plt.xlabel('Layer',fontsize=14)\n",
    "plt.ylabel('Temperature (C)',fontsize=14)\n",
    "plt.show()"
   ]
  },
  {
   "cell_type": "code",
   "execution_count": null,
   "metadata": {
    "collapsed": false
   },
   "outputs": [],
   "source": [
    "print(depthnew[1]-depthnew[0])\n",
    "print(depthnew[2]-depthnew[1])\n",
    "print(depthnew[3]-depthnew[2])\n",
    "print(eta_input[0,:,0,0])\n",
    "print(np.sum(h_input[0,:,0,0]))\n"
   ]
  },
  {
   "cell_type": "code",
   "execution_count": null,
   "metadata": {
    "collapsed": false,
    "scrolled": true
   },
   "outputs": [],
   "source": [
    "X, Z = np.meshgrid(XC, -eta_input[0,:,0,0])\n",
    "fig=plt.figure(figsize=(7, 4), dpi= 80, facecolor='w', edgecolor='k')\n",
    "img1=plt.pcolor(X, Z, s_input[0,:,0,:],vmin=34.5,vmax=34.9)\n",
    "for i in range(1,ZN+1,1):\n",
    "    plt.plot(X[0,:],-eta_input[0,i,0,:],'k',Linewidth=0.2)\n",
    "plt.gca().invert_yaxis()\n",
    "plt.title('Salinity', fontsize=14)\n",
    "plt.xlabel('X Position (km)',fontsize=14)\n",
    "plt.ylabel('Depth (m)',fontsize=14)\n",
    "plt.colorbar(img1)\n",
    "plt.show()\n",
    "\n",
    "fig=plt.figure(figsize=(7, 4), dpi= 80, facecolor='w', edgecolor='k')\n",
    "img2=plt.pcolor(X, Z, t_input[0,:,0,:],vmin=-0.89,vmax=0.006)\n",
    "for i in range(1,ZN+1,1):\n",
    "    plt.plot(X[0,:],-eta_input[0,i,0,:],'k',Linewidth=0.2)\n",
    "plt.gca().invert_yaxis()\n",
    "\n",
    "plt.title('Temperature', fontsize=14)\n",
    "plt.xlabel('X Position (km)',fontsize=14)\n",
    "plt.ylabel('Depth (m)',fontsize=14)\n",
    "plt.colorbar(img2)\n",
    "plt.show()\n",
    "print(np.max(s_input))\n",
    "print(np.min(s_input)) \n",
    "print(np.max(t_input))\n",
    "print(np.min(t_input)) "
   ]
  },
  {
   "cell_type": "code",
   "execution_count": null,
   "metadata": {
    "collapsed": false
   },
   "outputs": [],
   "source": [
    "#WRITING INITIAL CONDITIONS\n",
    "writing = nc.Dataset(\"IC_TS3D.nc\",\"w\",format=\"NETCDF3_64BIT_OFFSET\")\n",
    "TIME = writing.createDimension(\"TIME\",1)\n",
    "LAYER = writing.createDimension(\"LAYER\",ZN) \n",
    "LAT = writing.createDimension(\"LAT\",YN)\n",
    "LON = writing.createDimension(\"LON\",XN)\n",
    "\n",
    "\n",
    "LAT = writing.createVariable(\"LAT\",\"f8\",(\"LAT\"))\n",
    "LAT[:]=YC\n",
    "LAT.standard_name = \"YC (y coordinate at center of grid cell)\"\n",
    "LAT.units = \"km\"\n",
    "LAT.cartesian_axis = \"Y\"\n",
    "\n",
    "    \n",
    "LON = writing.createVariable(\"LON\",\"f8\",(\"LON\"))\n",
    "LON[:]=XC\n",
    "LON.standard_name = \"XC (x coordinate at center of grid cell)\"\n",
    "LON.units = \"km\"\n",
    "LON.cartesian_axis = \"X\" ;\n",
    "\n",
    "TIME = writing.createVariable(\"TIME\",\"f8\",(\"TIME\"))\n",
    "TIME[:]=0.0\n",
    "TIME.standard_name = \"time\"\n",
    "TIME.units = \"days since 0001-01-01 00:00:00\"\n",
    "TIME.calendar = \"noleap\" ;\n",
    "TIME.cartesian_axis = \"T\" ;\n",
    "    \n",
    "\n",
    "PTEMP = writing.createVariable(\"PTEMP\",\"f4\",(\"TIME\",\"LAYER\",\"LAT\",\"LON\"),fill_value=-1.e+34)\n",
    "PTEMP[:,:,:,:]=t_input\n",
    "PTEMP.standard_name = \"Initial potential temperature referenced to 0dbar\"\n",
    "PTEMP.units = \"Celsius\"\n",
    "\n",
    "SALT = writing.createVariable(\"SALT\",\"f4\",(\"TIME\",\"LAYER\",\"LAT\",\"LON\"),fill_value=-1.e+34)\n",
    "SALT[:,:,:,:]=s_input\n",
    "SALT.standard_name = \"Initial salinity\"\n",
    "SALT.units = \"PSU\"\n",
    "\n",
    "\n",
    "writing.close()"
   ]
  },
  {
   "cell_type": "code",
   "execution_count": null,
   "metadata": {
    "collapsed": false
   },
   "outputs": [],
   "source": [
    "#NEW FILE CHECK\n",
    "newfile = nc.Dataset('IC_TS3D.nc')\n",
    "print(newfile)\n",
    "temp_new=newfile.variables['PTEMP'][:]\n",
    "print(temp_new.shape)\n",
    "salt_new=newfile.variables['SALT'][:]\n",
    "print(salt_new.shape)"
   ]
  },
  {
   "cell_type": "code",
   "execution_count": null,
   "metadata": {
    "collapsed": false
   },
   "outputs": [],
   "source": [
    "#WRITING THICKNESS FILE\n",
    "writing = nc.Dataset(\"thickness_file.nc\",\"w\",format=\"NETCDF3_64BIT_OFFSET\")\n",
    "TIME = writing.createDimension(\"TIME\",1)\n",
    "Layer = writing.createDimension(\"Layer\",ZN)\n",
    "Interface = writing.createDimension(\"Interface\",ZN+1)\n",
    "LAT = writing.createDimension(\"LAT\",YN)\n",
    "LON = writing.createDimension(\"LON\",XN)\n",
    "\n",
    "\n",
    "LAT = writing.createVariable(\"LAT\",\"f8\",(\"LAT\"))\n",
    "LAT[:]=YC\n",
    "LAT.standard_name = \"YC (y coordinate at center of grid cell)\"\n",
    "LAT.units = \"km\"\n",
    "LAT.cartesian_axis = \"Y\"\n",
    "\n",
    "    \n",
    "LON = writing.createVariable(\"LON\",\"f8\",(\"LON\"))\n",
    "LON[:]=XC\n",
    "LON.standard_name = \"XC (x coordinate at center of grid cell)\"\n",
    "LON.units = \"km\"\n",
    "LON.cartesian_axis = \"X\" ;\n",
    "\n",
    "TIME = writing.createVariable(\"TIME\",\"f8\",(\"TIME\"))\n",
    "TIME[:]=0.0\n",
    "TIME.standard_name = \"time\"\n",
    "TIME.units = \"days since 0001-01-01 00:00:00\"\n",
    "TIME.calendar = \"noleap\" ;\n",
    "TIME.cartesian_axis = \"T\" ;\n",
    "    \n",
    "h = writing.createVariable(\"h\",\"f4\",(\"TIME\",\"Layer\",\"LAT\",\"LON\"),fill_value=-1.e+34)\n",
    "h[:,:,:,:]=h_input\n",
    "h.standard_name = \"Layer thickness\"\n",
    "h.units = \"meters\"\n",
    "\n",
    "eta = writing.createVariable(\"eta\",\"f4\",(\"TIME\",\"Interface\",\"LAT\",\"LON\"),fill_value=-1.e+34)\n",
    "eta[:,:,:,:]=eta_input\n",
    "eta.standard_name = \"Interface height\"\n",
    "eta.units = \"meters\"\n",
    "\n",
    "writing.close()"
   ]
  },
  {
   "cell_type": "code",
   "execution_count": null,
   "metadata": {
    "collapsed": false
   },
   "outputs": [],
   "source": [
    "#NEW FILE CHECK\n",
    "newfile = nc.Dataset('thickness_file.nc')\n",
    "eta_new=newfile.variables['eta'][:]\n",
    "np.min(eta_new)\n"
   ]
  },
  {
   "cell_type": "code",
   "execution_count": null,
   "metadata": {
    "collapsed": false
   },
   "outputs": [],
   "source": [
    "#WRITING COORDINATE FILE OF T AND S\n",
    "writing = nc.Dataset(\"Coord_file.nc\",\"w\",format=\"NETCDF3_64BIT_OFFSET\")\n",
    "TIME = writing.createDimension(\"TIME\",1)\n",
    "DEPTH = writing.createDimension(\"DEPTH\",ZN)\n",
    "\n",
    "PTEMP = writing.createVariable(\"PTEMP\",\"f4\",(\"DEPTH\"),fill_value=-1.e+34)\n",
    "PTEMP[:]=t_input[0,:,0,0]\n",
    "PTEMP.standard_name = \"Layer temperature referenced to 0dbar\"\n",
    "PTEMP.units = \"Celsius\"\n",
    "\n",
    "SALT = writing.createVariable(\"SALT\",\"f4\",(\"DEPTH\"),fill_value=-1.e+34)\n",
    "SALT[:]=s_input[0,:,0,0]\n",
    "SALT.standard_name = \"Layer salinity\"\n",
    "SALT.units = \"PSU\"\n",
    "\n",
    "writing.close()"
   ]
  },
  {
   "cell_type": "code",
   "execution_count": null,
   "metadata": {
    "collapsed": false
   },
   "outputs": [],
   "source": [
    "#NEW FILE CHECK\n",
    "newfile = nc.Dataset('Coord_file.nc')\n",
    "S_new=newfile.variables['SALT'][:]\n",
    "T_new=newfile.variables['PTEMP'][:]\n",
    "np.max(S_new.shape)"
   ]
  },
  {
   "cell_type": "code",
   "execution_count": null,
   "metadata": {
    "collapsed": false
   },
   "outputs": [],
   "source": [
    "\n"
   ]
  }
 ],
 "metadata": {
  "kernelspec": {
   "display_name": "Python 3",
   "language": "python",
   "name": "python3"
  },
  "language_info": {
   "codemirror_mode": {
    "name": "ipython",
    "version": 3
   },
   "file_extension": ".py",
   "mimetype": "text/x-python",
   "name": "python",
   "nbconvert_exporter": "python",
   "pygments_lexer": "ipython3",
   "version": "3.6.5"
  }
 },
 "nbformat": 4,
 "nbformat_minor": 2
}
