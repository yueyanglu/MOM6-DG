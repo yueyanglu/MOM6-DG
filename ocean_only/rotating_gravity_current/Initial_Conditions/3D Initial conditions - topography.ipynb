{
 "cells": [
  {
   "cell_type": "code",
   "execution_count": null,
   "metadata": {
    "collapsed": false
   },
   "outputs": [],
   "source": [
    "%reset\n",
    "import numpy as np\n",
    "import scipy.io as sio\n",
    "import netCDF4 as nc\n",
    "import matplotlib.pyplot as plt\n",
    "%pwd"
   ]
  },
  {
   "cell_type": "code",
   "execution_count": null,
   "metadata": {
    "collapsed": false
   },
   "outputs": [],
   "source": [
    "NX=400\n",
    "NY=500\n",
    "depthmat=nc.Dataset('depthmat.nc')['depthmat'][:]\n",
    "xmat = nc.Dataset('xmat.nc')['xmat'][:]\n",
    "interpx1=xmat#np.linspace(0,75000,1280)#xmat\n",
    "interpx2=np.linspace(0,75000,NX)\n",
    "depthinterp=np.expand_dims(np.interp(interpx2,interpx1,depthmat),axis=0)\n",
    "\n",
    "depth_input=np.tile(depthinterp,(NY,1))\n",
    "depth_input.shape\n",
    "\n",
    "YC = np.linspace(0.0+100.0/(NY*2),100.0-100.0/(NY*2),NY) #100km in y\n",
    "XC = np.linspace(0.0+80.0/(NX*2),80.0-80.0/(NX*2),NX) #80km in x"
   ]
  },
  {
   "cell_type": "code",
   "execution_count": null,
   "metadata": {
    "collapsed": false
   },
   "outputs": [],
   "source": [
    "print(YC)"
   ]
  },
  {
   "cell_type": "code",
   "execution_count": null,
   "metadata": {
    "collapsed": false,
    "scrolled": true
   },
   "outputs": [],
   "source": [
    "fig=plt.figure(figsize=(7, 4), dpi= 80, facecolor='w', edgecolor='k')\n",
    "ax = fig.add_subplot(111)\n",
    "img1=ax.plot(XC,depth_input[0,:])\n",
    "ax.set_xlabel('X Position (km)',fontsize=14)\n",
    "ax.set_ylabel('Y Position (km)',fontsize=14)\n",
    "plt.gca().invert_yaxis()\n",
    "plt.title('Depth', fontsize=14)\n",
    "plt.show()"
   ]
  },
  {
   "cell_type": "code",
   "execution_count": null,
   "metadata": {
    "collapsed": false
   },
   "outputs": [],
   "source": [
    "topotest = nc.Dataset(\"topog3D.nc\",\"w\",format=\"NETCDF3_64BIT_OFFSET\")\n",
    "ntiles = topotest.createDimension(\"ntiles\",1)\n",
    "nx = topotest.createDimension(\"nx\",NX)\n",
    "ny = topotest.createDimension(\"ny\",NY)\n",
    "#Creating variables\n",
    "nx = topotest.createVariable(\"nx\",\"f8\",(\"nx\"))\n",
    "nx[:]=XC\n",
    "nx.standard_name = \"x location at cell centers\"\n",
    "nx.units = \"km\"\n",
    "\n",
    "ny = topotest.createVariable(\"ny\",\"f8\",(\"ny\"))\n",
    "ny[:]=YC\n",
    "ny.standard_name = \"y location at cell center\"\n",
    "ny.units = \"km\"\n",
    "\n",
    "depth = topotest.createVariable(\"depth\",\"f8\",(\"ny\",\"nx\"))\n",
    "depth[:,:]=depth_input\n",
    "depth.standard_name = \"topographic depth at cell centers\"\n",
    "depth.units = \"meters\"\n",
    "\n",
    "topotest.close()"
   ]
  },
  {
   "cell_type": "code",
   "execution_count": null,
   "metadata": {
    "collapsed": false
   },
   "outputs": [],
   "source": [
    "#NEW FILE CHECK\n",
    "filenew = nc.Dataset('topog3D.nc')\n",
    "print(filenew)\n",
    "depth_new=filenew.variables['depth'][:]\n",
    "XC_new=filenew.variables['nx'][:]\n",
    "YC_new=filenew.variables['ny'][:]\n",
    "print(depth_new.shape)\n",
    "print(XC_new.shape)\n",
    "print(YC_new.shape)"
   ]
  },
  {
   "cell_type": "code",
   "execution_count": null,
   "metadata": {
    "collapsed": false
   },
   "outputs": [],
   "source": [
    "print(depth_new)"
   ]
  },
  {
   "cell_type": "code",
   "execution_count": null,
   "metadata": {
    "collapsed": false
   },
   "outputs": [],
   "source": [
    "print(YC_new)"
   ]
  },
  {
   "cell_type": "code",
   "execution_count": null,
   "metadata": {
    "collapsed": true
   },
   "outputs": [],
   "source": []
  }
 ],
 "metadata": {
  "kernelspec": {
   "display_name": "Python 3",
   "language": "python",
   "name": "python3"
  },
  "language_info": {
   "codemirror_mode": {
    "name": "ipython",
    "version": 3
   },
   "file_extension": ".py",
   "mimetype": "text/x-python",
   "name": "python",
   "nbconvert_exporter": "python",
   "pygments_lexer": "ipython3",
   "version": "3.6.5"
  }
 },
 "nbformat": 4,
 "nbformat_minor": 2
}
