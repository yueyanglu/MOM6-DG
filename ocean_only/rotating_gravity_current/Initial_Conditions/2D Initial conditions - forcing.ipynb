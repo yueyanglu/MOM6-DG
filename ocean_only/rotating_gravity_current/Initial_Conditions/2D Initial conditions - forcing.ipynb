{
 "cells": [
  {
   "cell_type": "code",
   "execution_count": null,
   "metadata": {
    "collapsed": false
   },
   "outputs": [],
   "source": [
    "%reset\n",
    "import numpy as np\n",
    "import scipy.io as sio\n",
    "import netCDF4 as nc\n",
    "import matplotlib.pyplot as plt\n",
    "%matplotlib inline\n",
    "%pwd"
   ]
  },
  {
   "cell_type": "code",
   "execution_count": null,
   "metadata": {
    "collapsed": false
   },
   "outputs": [],
   "source": [
    "#SPECIFY THESE:\n",
    "XN = 640 #NUMBER OF POINTS IN X 640\n",
    "YN = 4  #NUMBER OF POINTS IN Y\n",
    "ZN = 120 #NUMBER OF POINTS IN Z 120 #default 120\n",
    "\n",
    "xmat = nc.Dataset('xmat.nc')['xmat'][:]\n",
    "Qmat = nc.Dataset('Qmat.nc')['Qmat'][:] #Heat flux, negative out of the ocean\n",
    "SFmat = nc.Dataset('SFmat.nc')['SFmat'][:] #Evaporative flux, negative out of the ocean\n",
    "\n",
    "interpx1=xmat\n",
    "interpx2=np.linspace(0,75000,XN) \n",
    "\n",
    "Qinterp=np.expand_dims(np.interp(interpx2,interpx1,Qmat),axis=0)\n",
    "Qinterp=np.expand_dims(Qinterp,axis=0)\n",
    "Q_input=np.repeat(Qinterp,YN,axis=1)\n",
    "\n",
    "SFinterp=np.expand_dims(np.interp(interpx2,interpx1,SFmat),axis=0)\n",
    "SFinterp=np.expand_dims(SFinterp,axis=0)\n",
    "SF_input=np.repeat(SFinterp,YN,axis=1)\n",
    "\n",
    "SST_input=(SF_input*0.0)+0.0059\n",
    "SSS_input=(SF_input*0.0)+34.4615"
   ]
  },
  {
   "cell_type": "code",
   "execution_count": null,
   "metadata": {
    "collapsed": false
   },
   "outputs": [],
   "source": [
    "print(Q_input.shape)\n",
    "print(SF_input.shape)\n",
    "print(SST_input.shape)"
   ]
  },
  {
   "cell_type": "code",
   "execution_count": null,
   "metadata": {
    "collapsed": false
   },
   "outputs": [],
   "source": [
    "print(SF_input)"
   ]
  },
  {
   "cell_type": "code",
   "execution_count": null,
   "metadata": {
    "collapsed": false,
    "scrolled": true
   },
   "outputs": [],
   "source": [
    "fig=plt.figure(figsize=(7, 4), dpi= 80, facecolor='w', edgecolor='k')\n",
    "ax = fig.add_subplot(111)\n",
    "ax.plot(interpx2/1000,Q_input[0,0,:]) \n",
    "plt.xlabel('X Position (km)',fontsize=14)\n",
    "plt.ylabel('Value',fontsize=14)\n",
    "plt.title('Heat flux [W/m^2]', fontsize=14)\n",
    "plt.show()\n",
    "\n",
    "fig=plt.figure(figsize=(7, 4), dpi= 80, facecolor='w', edgecolor='k')\n",
    "ax = fig.add_subplot(111)\n",
    "ax.plot(interpx2/1000,SF_input[0,0,:]) \n",
    "plt.xlabel('X Position (km)',fontsize=14)\n",
    "plt.ylabel('Value',fontsize=14)\n",
    "plt.title('Evaporative flux [kg/(m^2s)]', fontsize=14)\n",
    "plt.show()\n",
    "\n",
    "\n",
    "fig=plt.figure(figsize=(7, 4), dpi= 80, facecolor='w', edgecolor='k')\n",
    "ax = fig.add_subplot(111)\n",
    "ax.plot(interpx2/1000,SST_input[0,0,:]) \n",
    "plt.xlabel('X Position (km)',fontsize=14)\n",
    "plt.ylabel('Value',fontsize=14)\n",
    "plt.title('SST reference', fontsize=14)\n",
    "plt.show()\n",
    "\n",
    "\n",
    "fig=plt.figure(figsize=(7, 4), dpi= 80, facecolor='w', edgecolor='k')\n",
    "ax = fig.add_subplot(111)\n",
    "ax.plot(interpx2/1000,SSS_input[0,0,:]) \n",
    "plt.xlabel('X Position (km)',fontsize=14)\n",
    "plt.ylabel('Value',fontsize=14)\n",
    "plt.title('SSS reference', fontsize=14)\n",
    "plt.show()"
   ]
  },
  {
   "cell_type": "code",
   "execution_count": null,
   "metadata": {
    "collapsed": false
   },
   "outputs": [],
   "source": [
    "writing = nc.Dataset(\"forcing.nc\",\"w\",format=\"NETCDF3_64BIT_OFFSET\")\n",
    "TIME = writing.createDimension(\"TIME\",None)\n",
    "LAT = writing.createDimension(\"LAT\",YN)\n",
    "LON = writing.createDimension(\"LON\",XN)\n",
    "\n",
    "TIME = writing.createVariable(\"TIME\",\"f8\",(\"TIME\"))\n",
    "TIME[:] = 0.0\n",
    "TIME.standard_name=\"time\"\n",
    "TIME.units=\"days since 0001-01-01 00:00:00\"\n",
    "\n",
    "evap = writing.createVariable(\"evap\",\"f8\",(\"TIME\",\"LAT\",\"LON\"))\n",
    "evap[:,:,:]=SF_input\n",
    "evap.standard_name = \"Salt flux forcing = evaporation (both negative)\"\n",
    "evap.units = \"kg/(m^2*s)\"\n",
    "\n",
    "LW = writing.createVariable(\"LW\",\"f8\",(\"TIME\",\"LAT\",\"LON\"))\n",
    "LW[:,:,:]=0.0*SF_input\n",
    "LW.standard_name = \"Longwave flux downward\"\n",
    "LW.units = \"W/m^2\"\n",
    "\n",
    "SW = writing.createVariable(\"SW\",\"f8\",(\"TIME\",\"LAT\",\"LON\"))\n",
    "SW[:,:,:]=0.0*SF_input\n",
    "SW.standard_name = \"Shortwave flux downward\"\n",
    "SW.units = \"W/m^2\"\n",
    "\n",
    "sensible = writing.createVariable(\"sensible\",\"f8\",(\"TIME\",\"LAT\",\"LON\"))\n",
    "sensible[:,:,:]=Q_input\n",
    "sensible.standard_name = \"Sensible heat flux into ocean\"\n",
    "sensible.units = \"W/m^2\"\n",
    "\n",
    "latent = writing.createVariable(\"latent\",\"f8\",(\"TIME\",\"LAT\",\"LON\"))\n",
    "latent[:,:,:]=0.0*SF_input\n",
    "latent.standard_name = \"Latent heat flux into ocean\"\n",
    "latent.units = \"W/m^2\"\n",
    "\n",
    "liq_precip = writing.createVariable(\"liq_precip\",\"f8\",(\"TIME\",\"LAT\",\"LON\"))\n",
    "liq_precip[:,:,:]=0.0*SF_input\n",
    "liq_precip.standard_name= \"Liquid precipitation into ocean\"\n",
    "liq_precip.units = \"kg/(m^2*s)\"\n",
    "\n",
    "froz_precip = writing.createVariable(\"froz_precip\",\"f8\",(\"TIME\",\"LAT\",\"LON\"))\n",
    "froz_precip[:,:,:]=0.0*SF_input\n",
    "froz_precip.standard_name= \"Frozen precipitation into ocean\"\n",
    "froz_precip.units = \"kg/(m^2*s)\"\n",
    "\n",
    "liq_runoff = writing.createVariable(\"liq_runoff\",\"f8\",(\"TIME\",\"LAT\",\"LON\"))\n",
    "liq_runoff[:,:,:]=0.0*SF_input\n",
    "liq_runoff.standard_name= \"Liquid runoff into ocean\"\n",
    "liq_runoff.units = \"kg/(m^2*s)\"\n",
    "\n",
    "froz_runoff = writing.createVariable(\"froz_runoff\",\"f8\",(\"TIME\",\"LAT\",\"LON\"))\n",
    "froz_runoff[:,:,:]=0.0*SF_input\n",
    "froz_runoff.standard_name= \"Frozen runoff into ocean\"\n",
    "froz_runoff.units = \"kg/(m^2*s)\"\n",
    "\n",
    "SST = writing.createVariable(\"SST\",\"f8\",(\"TIME\",\"LAT\",\"LON\"))\n",
    "SST[:,:,:]=SST_input\n",
    "SST.standard_name = \"Reference surface SST\"\n",
    "SST.units = \"Celsius\"\n",
    "\n",
    "SSS = writing.createVariable(\"SSS\",\"f8\",(\"TIME\",\"LAT\",\"LON\"))\n",
    "SSS[:,:,:]=SSS_input\n",
    "SSS.standard_name = \"Reference surface SSS\"\n",
    "SSS.units = \"psu\"\n",
    "\n",
    "\n",
    "writing.close()"
   ]
  },
  {
   "cell_type": "code",
   "execution_count": null,
   "metadata": {
    "collapsed": false
   },
   "outputs": [],
   "source": [
    "#NEW FILE CHECK\n",
    "filenew = nc.Dataset('forcing.nc')\n",
    "print(filenew)\n",
    "SF_new=filenew.variables['evap'][:]\n",
    "print(SF_new.shape)\n",
    "Q_new=filenew.variables['sensible'][:]\n",
    "SST_new=filenew.variables['SST'][:]\n",
    "print(Q_new.shape)"
   ]
  },
  {
   "cell_type": "code",
   "execution_count": null,
   "metadata": {
    "collapsed": false
   },
   "outputs": [],
   "source": [
    "print(SST_new)"
   ]
  },
  {
   "cell_type": "code",
   "execution_count": null,
   "metadata": {
    "collapsed": false
   },
   "outputs": [],
   "source": []
  },
  {
   "cell_type": "code",
   "execution_count": null,
   "metadata": {
    "collapsed": false
   },
   "outputs": [],
   "source": [
    "\n"
   ]
  },
  {
   "cell_type": "code",
   "execution_count": null,
   "metadata": {
    "collapsed": true
   },
   "outputs": [],
   "source": []
  }
 ],
 "metadata": {
  "kernelspec": {
   "display_name": "Python 3",
   "language": "python",
   "name": "python3"
  },
  "language_info": {
   "codemirror_mode": {
    "name": "ipython",
    "version": 3
   },
   "file_extension": ".py",
   "mimetype": "text/x-python",
   "name": "python",
   "nbconvert_exporter": "python",
   "pygments_lexer": "ipython3",
   "version": "3.6.5"
  }
 },
 "nbformat": 4,
 "nbformat_minor": 2
}
